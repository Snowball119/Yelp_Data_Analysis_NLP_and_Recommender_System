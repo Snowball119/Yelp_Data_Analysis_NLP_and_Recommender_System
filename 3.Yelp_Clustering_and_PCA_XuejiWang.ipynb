{
 "cells": [
  {
   "cell_type": "markdown",
   "metadata": {},
   "source": [
    "# Yelp Data Challenge - Clustering and PCA\n",
    "\n"
   ]
  },
  {
   "cell_type": "code",
   "execution_count": 1,
   "metadata": {},
   "outputs": [],
   "source": [
    "import pandas as pd\n",
    "import numpy as np\n",
    "import matplotlib.pyplot as plt\n",
    "% matplotlib inline\n",
    "plt.style.use(\"ggplot\")"
   ]
  },
  {
   "cell_type": "code",
   "execution_count": 2,
   "metadata": {},
   "outputs": [],
   "source": [
    "df = pd.read_csv('/Users/xuejiwang/Downloads/yelp_dataset/last_2_years_restaurant_reviews.csv')"
   ]
  },
  {
   "cell_type": "code",
   "execution_count": 3,
   "metadata": {},
   "outputs": [
    {
     "data": {
      "text/html": [
       "<div>\n",
       "<style scoped>\n",
       "    .dataframe tbody tr th:only-of-type {\n",
       "        vertical-align: middle;\n",
       "    }\n",
       "\n",
       "    .dataframe tbody tr th {\n",
       "        vertical-align: top;\n",
       "    }\n",
       "\n",
       "    .dataframe thead th {\n",
       "        text-align: right;\n",
       "    }\n",
       "</style>\n",
       "<table border=\"1\" class=\"dataframe\">\n",
       "  <thead>\n",
       "    <tr style=\"text-align: right;\">\n",
       "      <th></th>\n",
       "      <th>business_id</th>\n",
       "      <th>name</th>\n",
       "      <th>categories</th>\n",
       "      <th>avg_stars</th>\n",
       "      <th>cool</th>\n",
       "      <th>date</th>\n",
       "      <th>funny</th>\n",
       "      <th>review_id</th>\n",
       "      <th>stars</th>\n",
       "      <th>text</th>\n",
       "      <th>useful</th>\n",
       "      <th>user_id</th>\n",
       "    </tr>\n",
       "  </thead>\n",
       "  <tbody>\n",
       "    <tr>\n",
       "      <th>0</th>\n",
       "      <td>--9e1ONYQuAa-CB_Rrw7Tw</td>\n",
       "      <td>Delmonico Steakhouse</td>\n",
       "      <td>Steakhouses, Restaurants, Cajun/Creole</td>\n",
       "      <td>4.0</td>\n",
       "      <td>0</td>\n",
       "      <td>2017-02-14</td>\n",
       "      <td>0</td>\n",
       "      <td>VETXTwMw6qxzOVDlXfe6Tg</td>\n",
       "      <td>5</td>\n",
       "      <td>went for dinner tonight. Amazing my husband ha...</td>\n",
       "      <td>0</td>\n",
       "      <td>ymlnR8UeFvB4FZL56tCZsA</td>\n",
       "    </tr>\n",
       "    <tr>\n",
       "      <th>1</th>\n",
       "      <td>--9e1ONYQuAa-CB_Rrw7Tw</td>\n",
       "      <td>Delmonico Steakhouse</td>\n",
       "      <td>Steakhouses, Restaurants, Cajun/Creole</td>\n",
       "      <td>4.0</td>\n",
       "      <td>0</td>\n",
       "      <td>2017-12-04</td>\n",
       "      <td>0</td>\n",
       "      <td>S8-8uZ7fa5YbjnEtaW15ng</td>\n",
       "      <td>5</td>\n",
       "      <td>This was an amazing dinning experience! ORDER ...</td>\n",
       "      <td>0</td>\n",
       "      <td>9pSSL6X6lFpY3FCRLEH3og</td>\n",
       "    </tr>\n",
       "    <tr>\n",
       "      <th>2</th>\n",
       "      <td>--9e1ONYQuAa-CB_Rrw7Tw</td>\n",
       "      <td>Delmonico Steakhouse</td>\n",
       "      <td>Steakhouses, Restaurants, Cajun/Creole</td>\n",
       "      <td>4.0</td>\n",
       "      <td>0</td>\n",
       "      <td>2016-08-22</td>\n",
       "      <td>1</td>\n",
       "      <td>1nK5w0VNfDlnR3bOz13dJQ</td>\n",
       "      <td>5</td>\n",
       "      <td>My husband and I went there for lunch on a Sat...</td>\n",
       "      <td>1</td>\n",
       "      <td>gm8nNoA3uB4In5o_Hxpq3g</td>\n",
       "    </tr>\n",
       "    <tr>\n",
       "      <th>3</th>\n",
       "      <td>--9e1ONYQuAa-CB_Rrw7Tw</td>\n",
       "      <td>Delmonico Steakhouse</td>\n",
       "      <td>Steakhouses, Restaurants, Cajun/Creole</td>\n",
       "      <td>4.0</td>\n",
       "      <td>0</td>\n",
       "      <td>2016-09-13</td>\n",
       "      <td>0</td>\n",
       "      <td>N1Z93BthdJ7FT2p5S22jIA</td>\n",
       "      <td>3</td>\n",
       "      <td>Went for a nice anniversary dinner. Researched...</td>\n",
       "      <td>0</td>\n",
       "      <td>CEtidlXNyQzgJSdF1ubPFw</td>\n",
       "    </tr>\n",
       "    <tr>\n",
       "      <th>4</th>\n",
       "      <td>--9e1ONYQuAa-CB_Rrw7Tw</td>\n",
       "      <td>Delmonico Steakhouse</td>\n",
       "      <td>Steakhouses, Restaurants, Cajun/Creole</td>\n",
       "      <td>4.0</td>\n",
       "      <td>0</td>\n",
       "      <td>2015-02-02</td>\n",
       "      <td>0</td>\n",
       "      <td>_Uwp6FO1X-avE9wqTMC59w</td>\n",
       "      <td>5</td>\n",
       "      <td>This place is first class in every way. Lobste...</td>\n",
       "      <td>0</td>\n",
       "      <td>-Z7Nw2UF7NiBSAzfXNA_XA</td>\n",
       "    </tr>\n",
       "  </tbody>\n",
       "</table>\n",
       "</div>"
      ],
      "text/plain": [
       "              business_id                  name  \\\n",
       "0  --9e1ONYQuAa-CB_Rrw7Tw  Delmonico Steakhouse   \n",
       "1  --9e1ONYQuAa-CB_Rrw7Tw  Delmonico Steakhouse   \n",
       "2  --9e1ONYQuAa-CB_Rrw7Tw  Delmonico Steakhouse   \n",
       "3  --9e1ONYQuAa-CB_Rrw7Tw  Delmonico Steakhouse   \n",
       "4  --9e1ONYQuAa-CB_Rrw7Tw  Delmonico Steakhouse   \n",
       "\n",
       "                               categories  avg_stars  cool        date  funny  \\\n",
       "0  Steakhouses, Restaurants, Cajun/Creole        4.0     0  2017-02-14      0   \n",
       "1  Steakhouses, Restaurants, Cajun/Creole        4.0     0  2017-12-04      0   \n",
       "2  Steakhouses, Restaurants, Cajun/Creole        4.0     0  2016-08-22      1   \n",
       "3  Steakhouses, Restaurants, Cajun/Creole        4.0     0  2016-09-13      0   \n",
       "4  Steakhouses, Restaurants, Cajun/Creole        4.0     0  2015-02-02      0   \n",
       "\n",
       "                review_id  stars  \\\n",
       "0  VETXTwMw6qxzOVDlXfe6Tg      5   \n",
       "1  S8-8uZ7fa5YbjnEtaW15ng      5   \n",
       "2  1nK5w0VNfDlnR3bOz13dJQ      5   \n",
       "3  N1Z93BthdJ7FT2p5S22jIA      3   \n",
       "4  _Uwp6FO1X-avE9wqTMC59w      5   \n",
       "\n",
       "                                                text  useful  \\\n",
       "0  went for dinner tonight. Amazing my husband ha...       0   \n",
       "1  This was an amazing dinning experience! ORDER ...       0   \n",
       "2  My husband and I went there for lunch on a Sat...       1   \n",
       "3  Went for a nice anniversary dinner. Researched...       0   \n",
       "4  This place is first class in every way. Lobste...       0   \n",
       "\n",
       "                  user_id  \n",
       "0  ymlnR8UeFvB4FZL56tCZsA  \n",
       "1  9pSSL6X6lFpY3FCRLEH3og  \n",
       "2  gm8nNoA3uB4In5o_Hxpq3g  \n",
       "3  CEtidlXNyQzgJSdF1ubPFw  \n",
       "4  -Z7Nw2UF7NiBSAzfXNA_XA  "
      ]
     },
     "execution_count": 3,
     "metadata": {},
     "output_type": "execute_result"
    }
   ],
   "source": [
    "df.head()"
   ]
  },
  {
   "cell_type": "markdown",
   "metadata": {},
   "source": [
    "## 1. Cluster the review text data for all the restaurants"
   ]
  },
  {
   "cell_type": "markdown",
   "metadata": {},
   "source": [
    "### Define feature variables, here is the text of the review"
   ]
  },
  {
   "cell_type": "code",
   "execution_count": 4,
   "metadata": {},
   "outputs": [],
   "source": [
    "# Take the values of the column that contains review text data, save to a variable named \"documents\"\n",
    "documents = df['text'].values"
   ]
  },
  {
   "cell_type": "markdown",
   "metadata": {},
   "source": [
    "### Define your target variable (any categorical variable that may be meaningful)"
   ]
  },
  {
   "cell_type": "markdown",
   "metadata": {},
   "source": [
    "#### For example, I am interested in perfect (5 stars) and imperfect (1-4 stars) rating"
   ]
  },
  {
   "cell_type": "code",
   "execution_count": 5,
   "metadata": {},
   "outputs": [],
   "source": [
    "# Make a column and take the values, save to a variable named \"target\"\n",
    "df['perfect'] = (df['stars'] > 4)\n",
    "target = df['perfect']"
   ]
  },
  {
   "cell_type": "markdown",
   "metadata": {},
   "source": [
    "#### statistic of the target variable"
   ]
  },
  {
   "cell_type": "code",
   "execution_count": 8,
   "metadata": {},
   "outputs": [
    {
     "data": {
      "text/plain": [
       "0.4741461922405801"
      ]
     },
     "execution_count": 8,
     "metadata": {},
     "output_type": "execute_result"
    }
   ],
   "source": [
    "# To be implemented\n",
    "target.mean()"
   ]
  },
  {
   "cell_type": "code",
   "execution_count": 9,
   "metadata": {},
   "outputs": [
    {
     "data": {
      "text/plain": [
       "0     True\n",
       "1     True\n",
       "2     True\n",
       "3    False\n",
       "4     True\n",
       "Name: perfect, dtype: bool"
      ]
     },
     "execution_count": 9,
     "metadata": {},
     "output_type": "execute_result"
    }
   ],
   "source": [
    "target.head()"
   ]
  },
  {
   "cell_type": "markdown",
   "metadata": {},
   "source": [
    "### Create training dataset and test dataset"
   ]
  },
  {
   "cell_type": "code",
   "execution_count": 11,
   "metadata": {},
   "outputs": [],
   "source": [
    "from sklearn.cross_validation import train_test_split"
   ]
  },
  {
   "cell_type": "code",
   "execution_count": 21,
   "metadata": {},
   "outputs": [],
   "source": [
    "# documents is X, target is y\n",
    "# Now split the data to training set and test set\n",
    "# Start with a big \"test_size\", since large training set can easily crash your laptop.\n",
    "documents_train, documents_test, target_train, target_test = \\\n",
    "train_test_split(documents, target, test_size = 0.96, random_state = 7)\n"
   ]
  },
  {
   "cell_type": "markdown",
   "metadata": {},
   "source": [
    "### Get NLP representation of the documents\n",
    "\n",
    "#### Fit TfidfVectorizer with training data only, then tranform all the data to tf-idf"
   ]
  },
  {
   "cell_type": "code",
   "execution_count": 13,
   "metadata": {},
   "outputs": [],
   "source": [
    "from sklearn.feature_extraction.text import TfidfVectorizer"
   ]
  },
  {
   "cell_type": "code",
   "execution_count": 14,
   "metadata": {},
   "outputs": [],
   "source": [
    "# Create TfidfVectorizer, and name it vectorizer, choose a reasonable max_features, e.g. 1000\n",
    "vectorizer = TfidfVectorizer(stop_words = 'english', max_features = 1000)"
   ]
  },
  {
   "cell_type": "code",
   "execution_count": 15,
   "metadata": {},
   "outputs": [],
   "source": [
    "# Train the model with your training data\n",
    "vectors_train = vectorizer.fit_transform(documents_train).todense()"
   ]
  },
  {
   "cell_type": "code",
   "execution_count": 16,
   "metadata": {},
   "outputs": [
    {
     "data": {
      "text/plain": [
       "(numpy.matrixlib.defmatrix.matrix, (25628, 1000))"
      ]
     },
     "execution_count": 16,
     "metadata": {},
     "output_type": "execute_result"
    }
   ],
   "source": [
    "type(vectors_train),vectors_train.shape"
   ]
  },
  {
   "cell_type": "code",
   "execution_count": 17,
   "metadata": {},
   "outputs": [],
   "source": [
    "# vectors_train = vectorizer.fit_transform(documents_train).array()"
   ]
  },
  {
   "cell_type": "code",
   "execution_count": 18,
   "metadata": {},
   "outputs": [],
   "source": [
    "# Get the vocab of your tfidf\n",
    "wordsBag = vectorizer.get_feature_names()"
   ]
  },
  {
   "cell_type": "code",
   "execution_count": 19,
   "metadata": {},
   "outputs": [],
   "source": [
    "# Use the trained model to transform all the reviews\n",
    "vectorized_documents = vectorizer.transform(documents).todense()"
   ]
  },
  {
   "cell_type": "markdown",
   "metadata": {},
   "source": [
    "## Cluster reviews with KMeans"
   ]
  },
  {
   "cell_type": "markdown",
   "metadata": {},
   "source": [
    "#### Fit k-means clustering with the training vectors and apply it on all the data"
   ]
  },
  {
   "cell_type": "code",
   "execution_count": 22,
   "metadata": {},
   "outputs": [],
   "source": [
    "from sklearn.cluster import KMeans"
   ]
  },
  {
   "cell_type": "code",
   "execution_count": 23,
   "metadata": {},
   "outputs": [
    {
     "data": {
      "text/plain": [
       "KMeans(algorithm='auto', copy_x=True, init='k-means++', max_iter=300,\n",
       "    n_clusters=8, n_init=10, n_jobs=1, precompute_distances='auto',\n",
       "    random_state=None, tol=0.0001, verbose=0)"
      ]
     },
     "execution_count": 23,
     "metadata": {},
     "output_type": "execute_result"
    }
   ],
   "source": [
    "kmeans = KMeans()\n",
    "kmeans.fit(vectors_train)"
   ]
  },
  {
   "cell_type": "code",
   "execution_count": 24,
   "metadata": {},
   "outputs": [
    {
     "data": {
      "text/plain": [
       "KMeans(algorithm='auto', copy_x=True, init='k-means++', max_iter=300,\n",
       "    n_clusters=8, n_init=10, n_jobs=1, precompute_distances='auto',\n",
       "    random_state=None, tol=0.0001, verbose=0)"
      ]
     },
     "execution_count": 24,
     "metadata": {},
     "output_type": "execute_result"
    }
   ],
   "source": [
    "#kmeans = KMeans()\n",
    "#kmeans.fit(vectors_train)\n",
    "KMeans().fit(vectors_train)"
   ]
  },
  {
   "cell_type": "markdown",
   "metadata": {},
   "source": [
    "#### Make predictions on all the data"
   ]
  },
  {
   "cell_type": "code",
   "execution_count": 25,
   "metadata": {},
   "outputs": [],
   "source": [
    "# To be implemented\n",
    "assigned_cluster = kmeans.predict(vectorized_documents)"
   ]
  },
  {
   "cell_type": "markdown",
   "metadata": {},
   "source": [
    "#### Inspect the centroids\n",
    "To find out what \"topics\" Kmeans has discovered we must inspect the centroids. Print out the centroids of the Kmeans clustering.\n",
    "\n",
    "   These centroids are simply a bunch of vectors.  To make any sense of them we need to map these vectors back into our 'word space'.  Think of each feature/dimension of the centroid vector as representing the \"average\" review or the average occurances of words for that cluster."
   ]
  },
  {
   "cell_type": "code",
   "execution_count": 26,
   "metadata": {},
   "outputs": [
    {
     "name": "stdout",
     "output_type": "stream",
     "text": [
      "(8, 1000)\n"
     ]
    }
   ],
   "source": [
    "print(kmeans.cluster_centers_.shape)\n"
   ]
  },
  {
   "cell_type": "markdown",
   "metadata": {},
   "source": [
    "#### Find the top 10 features for each cluster.\n",
    "For topics we are only really interested in the most present words, i.e. features/dimensions with the greatest representation in the centroid.  Print out the top ten words for each centroid.\n",
    "\n",
    "* Sort each centroid vector to find the top 10 features\n",
    "* Go back to your vectorizer object to find out what words each of these features corresponds to.\n"
   ]
  },
  {
   "cell_type": "code",
   "execution_count": 63,
   "metadata": {},
   "outputs": [],
   "source": [
    "mostFreq = 10\n",
    "top_centroids = kmeans.cluster_centers_.argsort()[:, -1: -mostFreq : -1]"
   ]
  },
  {
   "cell_type": "code",
   "execution_count": 68,
   "metadata": {},
   "outputs": [
    {
     "name": "stdout",
     "output_type": "stream",
     "text": [
      "top words for each cluster:\n",
      "0: place, food, vegas, best, delicious, amazing, love, service, like\n",
      "1: burger, fries, burgers, good, cheese, place, shake, food, ordered\n",
      "2: good, food, really, place, service, like, nice, pretty, just\n",
      "3: great, food, service, place, amazing, friendly, awesome, atmosphere, definitely\n",
      "4: pizza, crust, good, place, great, cheese, like, pizzas, just\n",
      "5: chicken, fried, good, rice, food, ordered, place, sauce, like\n",
      "6: sushi, rolls, place, roll, ayce, great, fresh, good, service\n",
      "7: food, order, service, time, minutes, just, didn, came, like\n"
     ]
    }
   ],
   "source": [
    "print(\"top words for each cluster:\")\n",
    "for num, centroid in enumerate(top_centroids):\n",
    "    print(\"%d: %s\" % (num, \", \".join(wordsBag[i] for i in centroid)))"
   ]
  },
  {
   "cell_type": "markdown",
   "metadata": {},
   "source": [
    "#### Try different k\n",
    "If you set k == to a different number, how does the top features change?"
   ]
  },
  {
   "cell_type": "code",
   "execution_count": 67,
   "metadata": {},
   "outputs": [
    {
     "data": {
      "text/plain": [
       "KMeans(algorithm='auto', copy_x=True, init='k-means++', max_iter=300,\n",
       "    n_clusters=5, n_init=10, n_jobs=1, precompute_distances='auto',\n",
       "    random_state=None, tol=0.0001, verbose=0)"
      ]
     },
     "execution_count": 67,
     "metadata": {},
     "output_type": "execute_result"
    }
   ],
   "source": [
    "from sklearn.cluster import KMeans\n",
    "kmeans = KMeans(n_clusters = 5)\n",
    "kmeans.fit(vectors_train)"
   ]
  },
  {
   "cell_type": "code",
   "execution_count": 69,
   "metadata": {},
   "outputs": [],
   "source": [
    "assigned_cluster = kmeans.predict(vectorized_documents)"
   ]
  },
  {
   "cell_type": "code",
   "execution_count": 70,
   "metadata": {},
   "outputs": [],
   "source": [
    "mostFreq = 10\n",
    "top_centroids = kmeans.cluster_centers_.argsort()[:, -1: -mostFreq : -1]"
   ]
  },
  {
   "cell_type": "code",
   "execution_count": 72,
   "metadata": {},
   "outputs": [
    {
     "name": "stdout",
     "output_type": "stream",
     "text": [
      "top words for each cluster:\n",
      "0: burger, fries, burgers, good, cheese, place, shake, food, ordered\n",
      "1: food, order, time, service, just, minutes, like, didn, came\n",
      "2: good, place, food, chicken, vegas, best, delicious, like, really\n",
      "3: pizza, crust, good, place, great, cheese, just, like, ordered\n",
      "4: great, food, service, place, amazing, good, friendly, awesome, staff\n"
     ]
    }
   ],
   "source": [
    "print(\"top words for each cluster:\")\n",
    "for num, centroid in enumerate(top_centroids):\n",
    "    print(\"%d: %s\" % (num, \", \".join(wordsBag[i] for i in centroid)))"
   ]
  },
  {
   "cell_type": "markdown",
   "metadata": {},
   "source": [
    "#### Print out the rating and review of a random sample of the reviews assigned to each cluster to get a sense of the cluster."
   ]
  },
  {
   "cell_type": "code",
   "execution_count": 73,
   "metadata": {},
   "outputs": [
    {
     "data": {
      "text/plain": [
       "array([0, 1, 2, 3, 4], dtype=int32)"
      ]
     },
     "execution_count": 73,
     "metadata": {},
     "output_type": "execute_result"
    }
   ],
   "source": [
    "np.unique(assigned_cluster)"
   ]
  },
  {
   "cell_type": "code",
   "execution_count": 75,
   "metadata": {},
   "outputs": [
    {
     "name": "stdout",
     "output_type": "stream",
     "text": [
      "cluster 0:\n",
      "    5\n",
      "    Came here on a Sunday afternoon with my daughter. We ordered the single veggie burger with cheese, fried zucchini, and the cilantro chicken salad with the tumeric dressing. We both enjoyed it thorougly ans the food came quick. The service was fast and the cashiers were friendly. \n",
      "\n",
      "I am happy to find this alternative place to eat at instead of the other joints. I'll be making my way here alot more frequently. \n",
      "\n",
      "We need more places like this in Vegas, everyone needs to come here to support.  :-)\n",
      "    1\n",
      "    THE worst place ever sorry Guy I love you, but this was awful. I looked at the menu before we got there and it looked good....so first off we get there they have no nachos (their seasonal) WTF....second I order a turkey burger and they have no more turkey Ridiculous! And lastly I order hot wings which is my favorite but I wanted something else...the menu said larger wings (I wonder how small they were before) because mines was baby Cornish hens size lbvs...I then asked the waiter since they didn't have the turkey burger can I get some complimentary fries he said we'll see (WHAT)...of course I didn't get them. \n",
      "\n",
      "Oh yeah I almost forgot the burgers are damn flat and crunchy my sister said the worst burger ever! I'm glad I didn't get one lol\n",
      "    4\n",
      "    Completely biased..by just the fact that they have a doggie friendly patio...this restaurant rocks..\n",
      "Beef burger and turkey burger....very good, and soooo much better food than the other doggie friendly near by patio....\n",
      "So....if you have an option with doggie in tow...this is a much more viable human experience.\n",
      "cluster 1:\n",
      "    1\n",
      "    I was under-impressed with this place.... like really thought it sucked.  I came down in the morning in my pj's and flipflops to grab some coffee before I started to get ready.\n",
      "\n",
      "After waiting in line for a good 10 mins, the girl informed me they don't take room key cards...FML I mutter. One star down. \n",
      "\n",
      "I tell her \"no worries\", I'll run upstairs and grab my wallet and be right back down. By the time everything is ready I'll be right here. I ordered a large latte and a chocolate almond croissant.\n",
      "\n",
      "I go upstairs, get my wallet, make it all the way back down and MUCH to my DISMAY she never submitted my order. I guess she needed to wait for me to come back. Minus another star...that's just bad customer service. Here's an idea...why don't you have signs that clearly say you don't take room keys to \"charge it to the room\" before people actually get in line?  So now I have to wait, I'm hungover, sleepy, pissed, and impatient...not what you would call a \"happy camper\" and this has been a really shittie experience so far. \n",
      "\n",
      "I finally get my items and travel upstairs to my room.  The croissant was drier than dry, it was quite awful really. IF it wasn't such a pain in the you know what I would've gone all the way downstairs to return it...it was THAT BAD. It was so dry that it actually broke apart into sawdust and went everywhere, like a vampire that just got staked. I even tried to flick it to see if it would disintegrate into a bunch of little pieces and it did.  No Bueno \n",
      "\n",
      "I won't return and I would rec'd you head over to the food court for coffee. \n",
      "\n",
      "Really a disappointing experience all around.\n",
      "    1\n",
      "    Service was terible. Hate to see it if it was busy. Waitress needs to be fired. Manager comped meal due to her incompetence. The only bright spot was the food runner. Poor kid, I can just imagine working for that guy. Hope they don't need local repeats. Never again.\n",
      "    1\n",
      "    Bad service. Water took 20mins and if i didnt go to the cashier to ask for water, we wont be getting water. And its CASH ONLY! Food was bad. Wasnt even that busy, servers acted like it was!\n",
      "cluster 2:\n",
      "    4\n",
      "    Country music a dance floor and 2 jack and cokes for 7.50 can't go wrong with this palce...\n",
      "    5\n",
      "    Been wanting to visit this place for a while since I've seen many reviews and news articles. Basically it's a club inside of a Taco Bell. Loud music everywhere and people MANY people. Good spot to socialize and grab a bite. The menu options are dirt cheap and I have no clue how YUM makes money with such cheap food. Dollar menu cheap burritos you name it they have it for fantastic drink food. Hey also have alcoholic slushes which are a PLUS.\n",
      "    3\n",
      "    It's an airport. This means all food is expensive and slightly lower quality than what you usually want to receive when paying a premium.\n",
      "cluster 3:\n",
      "    2\n",
      "    Great pizza lots of toppings!  But I prefer thin crust New York style.  Sandwiches are skimpy on the roast beef meat, and pretty bland and flavorless.  Customer service average at best.\n",
      "    4\n",
      "    I've been to their Henderson location, for which I kind of like the layout better, but the pizza is just as good here.  A friend and I came here for a later dinner, and all the workers were friendly, and the pizza was delicious.  Thanks again, Metro Pizza!\n",
      "    3\n",
      "    Had the Toscana sandwich and it was ok. I noticed they burned the bread but I was too dang hungry to take it back. Service was really slow even though there wasn't many people in the place. Friends liked the pizza though so maybe order that.\n",
      "cluster 4:\n",
      "    5\n",
      "    By far my favorite Korean BBQ restaurant anywhere.  The best ever. The ambiance is great and the staff is terrific.\n",
      "    5\n",
      "    Our first meal at this amazing restaurant was fabulous with delicious food, awesome staff, fun decor and more! We will go back! What a surprisingly great experience!\n",
      "    4\n",
      "    Lucky to have found this Dimsum spot! The food was great.l, and I'm from westminster where they have really good dumsum.\n"
     ]
    },
    {
     "name": "stderr",
     "output_type": "stream",
     "text": [
      "/anaconda3/lib/python3.6/site-packages/ipykernel_launcher.py:6: DeprecationWarning: \n",
      ".ix is deprecated. Please use\n",
      ".loc for label based indexing or\n",
      ".iloc for positional indexing\n",
      "\n",
      "See the documentation here:\n",
      "http://pandas.pydata.org/pandas-docs/stable/indexing.html#ix-indexer-is-deprecated\n",
      "  \n"
     ]
    }
   ],
   "source": [
    "for i in range(kmeans.n_clusters):\n",
    "    cluster = np.arange(0, documents.shape[0])[assigned_cluster==i]\n",
    "    sample_reviews = np.random.choice(cluster, 3, replace=False)\n",
    "    print(\"cluster %d:\" % i)\n",
    "    for review_index in sample_reviews:\n",
    "        print(\"    %s\" % df.ix[review_index]['stars'],)\n",
    "        print(\"    %s\" % df.ix[review_index]['text'])\n",
    "    print"
   ]
  },
  {
   "cell_type": "markdown",
   "metadata": {},
   "source": [
    "## 2. Cluster all the reviews of the most reviewed restaurant\n",
    "Let's find the most reviewed restaurant and analyze its reviews"
   ]
  },
  {
   "cell_type": "code",
   "execution_count": 76,
   "metadata": {},
   "outputs": [],
   "source": [
    "# Find the business who got most reviews, get filtered df, name it df_top_restaurant\n",
    "most_reviewed = df['business_id'].value_counts().index[0]"
   ]
  },
  {
   "cell_type": "code",
   "execution_count": 77,
   "metadata": {},
   "outputs": [],
   "source": [
    "df_most_reviewed = df[df['business_id'] == most_reviewed]"
   ]
  },
  {
   "cell_type": "code",
   "execution_count": 78,
   "metadata": {},
   "outputs": [],
   "source": [
    "df_top_restaurant = df_most_reviewed.reset_index()"
   ]
  },
  {
   "cell_type": "code",
   "execution_count": 79,
   "metadata": {},
   "outputs": [
    {
     "data": {
      "text/html": [
       "<div>\n",
       "<style scoped>\n",
       "    .dataframe tbody tr th:only-of-type {\n",
       "        vertical-align: middle;\n",
       "    }\n",
       "\n",
       "    .dataframe tbody tr th {\n",
       "        vertical-align: top;\n",
       "    }\n",
       "\n",
       "    .dataframe thead th {\n",
       "        text-align: right;\n",
       "    }\n",
       "</style>\n",
       "<table border=\"1\" class=\"dataframe\">\n",
       "  <thead>\n",
       "    <tr style=\"text-align: right;\">\n",
       "      <th></th>\n",
       "      <th>index</th>\n",
       "      <th>business_id</th>\n",
       "      <th>name</th>\n",
       "      <th>categories</th>\n",
       "      <th>avg_stars</th>\n",
       "      <th>cool</th>\n",
       "      <th>date</th>\n",
       "      <th>funny</th>\n",
       "      <th>review_id</th>\n",
       "      <th>stars</th>\n",
       "      <th>text</th>\n",
       "      <th>useful</th>\n",
       "      <th>user_id</th>\n",
       "      <th>perfect</th>\n",
       "    </tr>\n",
       "  </thead>\n",
       "  <tbody>\n",
       "    <tr>\n",
       "      <th>0</th>\n",
       "      <td>283639</td>\n",
       "      <td>RESDUcs7fIiihp38-d6_6g</td>\n",
       "      <td>Bacchanal Buffet</td>\n",
       "      <td>Sandwiches, Buffets, Breakfast &amp; Brunch, Food,...</td>\n",
       "      <td>4.0</td>\n",
       "      <td>0</td>\n",
       "      <td>2015-09-16</td>\n",
       "      <td>0</td>\n",
       "      <td>gkcPdbblTvZDMSwx8nVEKw</td>\n",
       "      <td>5</td>\n",
       "      <td>Got here early on football Sunday 7:30am as I ...</td>\n",
       "      <td>0</td>\n",
       "      <td>SKteB5rgDlkkUa1Zxe1N0Q</td>\n",
       "      <td>True</td>\n",
       "    </tr>\n",
       "    <tr>\n",
       "      <th>1</th>\n",
       "      <td>283640</td>\n",
       "      <td>RESDUcs7fIiihp38-d6_6g</td>\n",
       "      <td>Bacchanal Buffet</td>\n",
       "      <td>Sandwiches, Buffets, Breakfast &amp; Brunch, Food,...</td>\n",
       "      <td>4.0</td>\n",
       "      <td>0</td>\n",
       "      <td>2017-09-09</td>\n",
       "      <td>0</td>\n",
       "      <td>mQfl6ci46mu0xaZrkRUhlA</td>\n",
       "      <td>5</td>\n",
       "      <td>This buffet is amazing.  Yes, it is expensive,...</td>\n",
       "      <td>0</td>\n",
       "      <td>f638AHA_GoHbyDB7VFMz7A</td>\n",
       "      <td>True</td>\n",
       "    </tr>\n",
       "    <tr>\n",
       "      <th>2</th>\n",
       "      <td>283641</td>\n",
       "      <td>RESDUcs7fIiihp38-d6_6g</td>\n",
       "      <td>Bacchanal Buffet</td>\n",
       "      <td>Sandwiches, Buffets, Breakfast &amp; Brunch, Food,...</td>\n",
       "      <td>4.0</td>\n",
       "      <td>0</td>\n",
       "      <td>2017-02-08</td>\n",
       "      <td>0</td>\n",
       "      <td>lMarDJDg4-e_0YoJOKJoWA</td>\n",
       "      <td>2</td>\n",
       "      <td>This place....lol our server was nice.  But fo...</td>\n",
       "      <td>0</td>\n",
       "      <td>A21zMqdN76ueLZFpmbue0Q</td>\n",
       "      <td>False</td>\n",
       "    </tr>\n",
       "    <tr>\n",
       "      <th>3</th>\n",
       "      <td>283642</td>\n",
       "      <td>RESDUcs7fIiihp38-d6_6g</td>\n",
       "      <td>Bacchanal Buffet</td>\n",
       "      <td>Sandwiches, Buffets, Breakfast &amp; Brunch, Food,...</td>\n",
       "      <td>4.0</td>\n",
       "      <td>0</td>\n",
       "      <td>2017-12-22</td>\n",
       "      <td>0</td>\n",
       "      <td>30xmXTzJwHPcqt0uvSLQhQ</td>\n",
       "      <td>3</td>\n",
       "      <td>One star knocked off for the cold air conditio...</td>\n",
       "      <td>0</td>\n",
       "      <td>uNHEnP28MMmVy96ZSJKaMA</td>\n",
       "      <td>False</td>\n",
       "    </tr>\n",
       "    <tr>\n",
       "      <th>4</th>\n",
       "      <td>283643</td>\n",
       "      <td>RESDUcs7fIiihp38-d6_6g</td>\n",
       "      <td>Bacchanal Buffet</td>\n",
       "      <td>Sandwiches, Buffets, Breakfast &amp; Brunch, Food,...</td>\n",
       "      <td>4.0</td>\n",
       "      <td>0</td>\n",
       "      <td>2015-02-21</td>\n",
       "      <td>0</td>\n",
       "      <td>g8ojbzP1xoX9dbDfQv2KJw</td>\n",
       "      <td>5</td>\n",
       "      <td>Miche better experience this time around. We w...</td>\n",
       "      <td>0</td>\n",
       "      <td>3cZPpN-IrA8CSc5PkZLbXA</td>\n",
       "      <td>True</td>\n",
       "    </tr>\n",
       "  </tbody>\n",
       "</table>\n",
       "</div>"
      ],
      "text/plain": [
       "    index             business_id              name  \\\n",
       "0  283639  RESDUcs7fIiihp38-d6_6g  Bacchanal Buffet   \n",
       "1  283640  RESDUcs7fIiihp38-d6_6g  Bacchanal Buffet   \n",
       "2  283641  RESDUcs7fIiihp38-d6_6g  Bacchanal Buffet   \n",
       "3  283642  RESDUcs7fIiihp38-d6_6g  Bacchanal Buffet   \n",
       "4  283643  RESDUcs7fIiihp38-d6_6g  Bacchanal Buffet   \n",
       "\n",
       "                                          categories  avg_stars  cool  \\\n",
       "0  Sandwiches, Buffets, Breakfast & Brunch, Food,...        4.0     0   \n",
       "1  Sandwiches, Buffets, Breakfast & Brunch, Food,...        4.0     0   \n",
       "2  Sandwiches, Buffets, Breakfast & Brunch, Food,...        4.0     0   \n",
       "3  Sandwiches, Buffets, Breakfast & Brunch, Food,...        4.0     0   \n",
       "4  Sandwiches, Buffets, Breakfast & Brunch, Food,...        4.0     0   \n",
       "\n",
       "         date  funny               review_id  stars  \\\n",
       "0  2015-09-16      0  gkcPdbblTvZDMSwx8nVEKw      5   \n",
       "1  2017-09-09      0  mQfl6ci46mu0xaZrkRUhlA      5   \n",
       "2  2017-02-08      0  lMarDJDg4-e_0YoJOKJoWA      2   \n",
       "3  2017-12-22      0  30xmXTzJwHPcqt0uvSLQhQ      3   \n",
       "4  2015-02-21      0  g8ojbzP1xoX9dbDfQv2KJw      5   \n",
       "\n",
       "                                                text  useful  \\\n",
       "0  Got here early on football Sunday 7:30am as I ...       0   \n",
       "1  This buffet is amazing.  Yes, it is expensive,...       0   \n",
       "2  This place....lol our server was nice.  But fo...       0   \n",
       "3  One star knocked off for the cold air conditio...       0   \n",
       "4  Miche better experience this time around. We w...       0   \n",
       "\n",
       "                  user_id  perfect  \n",
       "0  SKteB5rgDlkkUa1Zxe1N0Q     True  \n",
       "1  f638AHA_GoHbyDB7VFMz7A     True  \n",
       "2  A21zMqdN76ueLZFpmbue0Q    False  \n",
       "3  uNHEnP28MMmVy96ZSJKaMA    False  \n",
       "4  3cZPpN-IrA8CSc5PkZLbXA     True  "
      ]
     },
     "execution_count": 79,
     "metadata": {},
     "output_type": "execute_result"
    }
   ],
   "source": [
    "df_top_restaurant.head()"
   ]
  },
  {
   "cell_type": "markdown",
   "metadata": {},
   "source": [
    "#### Load restaurant profile information from the business dataset"
   ]
  },
  {
   "cell_type": "code",
   "execution_count": 80,
   "metadata": {},
   "outputs": [],
   "source": [
    "# Load business dataset (optional)\n",
    "\n",
    "import json\n",
    "import pandas as pd\n",
    "\n",
    "file_business = '/Users/xuejiwang/Downloads/yelp_dataset/yelp_academic_dataset_business.json'\n",
    "with open(file_business) as f:\n",
    "    df_business = pd.DataFrame(json.loads(line) for line in f)\n"
   ]
  },
  {
   "cell_type": "code",
   "execution_count": 81,
   "metadata": {},
   "outputs": [
    {
     "data": {
      "text/plain": [
       "(188593, 15)"
      ]
     },
     "execution_count": 81,
     "metadata": {},
     "output_type": "execute_result"
    }
   ],
   "source": [
    "df_business.shape"
   ]
  },
  {
   "cell_type": "code",
   "execution_count": 82,
   "metadata": {},
   "outputs": [],
   "source": [
    "# Take a look at the most reviewed restaurant's profile (optional)\n",
    "df_most_reviewed = df_business[df_business['business_id'] == most_reviewed ]"
   ]
  },
  {
   "cell_type": "code",
   "execution_count": 83,
   "metadata": {},
   "outputs": [
    {
     "data": {
      "text/plain": [
       "array(['Sandwiches, Buffets, Breakfast & Brunch, Food, Restaurants'],\n",
       "      dtype=object)"
      ]
     },
     "execution_count": 83,
     "metadata": {},
     "output_type": "execute_result"
    }
   ],
   "source": [
    "df_most_reviewed['categories'].values"
   ]
  },
  {
   "cell_type": "code",
   "execution_count": 84,
   "metadata": {},
   "outputs": [
    {
     "data": {
      "text/plain": [
       "array([{'Alcohol': 'full_bar', 'Ambience': \"{'romantic': False, 'intimate': False, 'classy': False, 'hipster': False, 'divey': False, 'touristy': False, 'trendy': False, 'upscale': False, 'casual': True}\", 'BikeParking': 'False', 'BusinessAcceptsCreditCards': 'True', 'BusinessParking': \"{'garage': True, 'street': False, 'validated': False, 'lot': False, 'valet': True}\", 'Caters': 'False', 'GoodForKids': 'True', 'GoodForMeal': \"{'dessert': True, 'latenight': False, 'lunch': True, 'dinner': True, 'breakfast': False, 'brunch': True}\", 'HasTV': 'False', 'NoiseLevel': 'average', 'OutdoorSeating': 'False', 'RestaurantsAttire': 'casual', 'RestaurantsDelivery': 'False', 'RestaurantsGoodForGroups': 'True', 'RestaurantsPriceRange2': '3', 'RestaurantsReservations': 'False', 'RestaurantsTableService': 'True', 'RestaurantsTakeOut': 'False', 'WheelchairAccessible': 'True', 'WiFi': 'no'}],\n",
       "      dtype=object)"
      ]
     },
     "execution_count": 84,
     "metadata": {},
     "output_type": "execute_result"
    }
   ],
   "source": [
    "df_most_reviewed['attributes'].values"
   ]
  },
  {
   "cell_type": "code",
   "execution_count": null,
   "metadata": {},
   "outputs": [],
   "source": []
  },
  {
   "cell_type": "markdown",
   "metadata": {},
   "source": [
    "### Vectorize the text feature"
   ]
  },
  {
   "cell_type": "code",
   "execution_count": 85,
   "metadata": {},
   "outputs": [],
   "source": [
    "# Take the values of the column that contains review text data, save to a variable named \"documents_top_restaurant\"\n",
    "documents_top_restaurant = df_top_restaurant['text'].values"
   ]
  },
  {
   "cell_type": "code",
   "execution_count": 86,
   "metadata": {},
   "outputs": [
    {
     "data": {
      "text/plain": [
       "dtype('O')"
      ]
     },
     "execution_count": 86,
     "metadata": {},
     "output_type": "execute_result"
    }
   ],
   "source": [
    "documents_top_restaurant.dtype"
   ]
  },
  {
   "cell_type": "code",
   "execution_count": 87,
   "metadata": {},
   "outputs": [
    {
     "data": {
      "text/plain": [
       "(4923,)"
      ]
     },
     "execution_count": 87,
     "metadata": {},
     "output_type": "execute_result"
    }
   ],
   "source": [
    "documents_top_restaurant.shape"
   ]
  },
  {
   "cell_type": "code",
   "execution_count": 88,
   "metadata": {},
   "outputs": [
    {
     "data": {
      "text/plain": [
       "array([\"Got here early on football Sunday 7:30am as I wanted to start the day off right. Heard this was the best buffet in town besides Bally's hotel . So upon entering the buffet there was no line or wait. Hostess was nice giving us the once around tour because it was our 1st time. The food looked incredible and my mouth was salivating to try it all. I'm the type of person that my first go round is to try it phase then the next time , and the next time I Attack !! Steak and eggs were bomb , omelet was on hit too. Red velvet pancakes yum . Had problems with the country fried potatoes but the onion rings made up for it.                                             Not a big fan of the champagne and orange juice so I instead opted to order the bottomless beer  Yeee !! Sea food was incredible and made sure I did damaged there also. Made a pit stop for the food truck type tacos . Brought it home with the desserts ! Well rounded buffet really , really enjoyed it . Some yelpers I see complained about $$ it's well wort it !! Will come back !!\",\n",
       "       \"This buffet is amazing.  Yes, it is expensive, but it is worth the splurge.  I recommend that you look at everything first and then decide what to get, because you can't possibly try everything.  I missed an entire corner of great food that I didn't see at first, and then I was too full to eat more. I like how everything is on little plates, bowls, or baskets, so everything doesn't get mixed together.  Lines are long, but you can check in and then they text when your time is almost up.  The wait time was less than they had said it would be, so don't go far away to wait.\",\n",
       "       'This place....lol our server was nice.  But for 50 something dollars for dinner was not worth it....Sorry but if I could choose another place to spend that much I know I would have been much happier. Not to mention they took a photo of us when we came in then brought us like 3-4 printouts of them, I mean nice ones...then they told us it was 15 dollars for one of the pictures...we honestly thought out of all the money we spent we\\'d at least get the pics for \"free.\"  So they went through all the trouble to print them and then are going to throw them away because we didn\\'t want to pay for them? Why not just give us the photos...Food was cold, poor quality of meats, etc..Also not near as big as this looks! Just bummed we spent so much. \\nSorry can\\'t recommend this at all.',\n",
       "       'One star knocked off for the cold air conditioning and 1 star knocked off for the loud music and the food was good so it will be only 3 stars.',\n",
       "       \"Miche better experience this time around. We were invited back by the manager of the bacchanal buffet for dinner tonight  after a less them stellar experience earlier in the week, and it was a total turn around. Service was great we had drinks quickly this time.  The food quality was much better and maybe they had an off day during breakfast, but this time they were right on point. Still looked like there was a bit of a wait for tables which is to be expected. The lamb chops were our favorite item, very flavorful and seared well. Since they were a lot busier, there was much more staff and you had someone's attention quickly if you wanted something cut/carved or spooned out. \\nThe pastry team is impressive and my favorite item was the purple yam cupcake, very moist, there. Was a huge selection of desserts and since I love sweets this was a nice treat. \\n\\nWe appreciated the manager reaching out to us and inviting us back. We had the experience I had heard so much about previously and we really enjoyed ourselves tonight, we left very full, glad we just to walk to Bellagio to get to our room. Thank you Toshi and your team for a great recovery from a poor first impression.\"],\n",
       "      dtype=object)"
      ]
     },
     "execution_count": 88,
     "metadata": {},
     "output_type": "execute_result"
    }
   ],
   "source": [
    "documents_top_restaurant[:5]"
   ]
  },
  {
   "cell_type": "markdown",
   "metadata": {},
   "source": [
    "### Define target variable for later classification"
   ]
  },
  {
   "cell_type": "markdown",
   "metadata": {},
   "source": [
    "#### Again, look at perfect (5 stars) and imperfect (1-4 stars) rating"
   ]
  },
  {
   "cell_type": "code",
   "execution_count": 89,
   "metadata": {},
   "outputs": [],
   "source": [
    "# To be implemented\n",
    "df_top_restaurant['perfect'] = (df_top_restaurant['stars'] > 4)\n",
    "target_top_restaurant = df_top_restaurant['perfect'].values.astype(int)"
   ]
  },
  {
   "cell_type": "code",
   "execution_count": 90,
   "metadata": {},
   "outputs": [
    {
     "data": {
      "text/plain": [
       "array([1, 1, 0, ..., 1, 0, 0])"
      ]
     },
     "execution_count": 90,
     "metadata": {},
     "output_type": "execute_result"
    }
   ],
   "source": [
    "target_top_restaurant"
   ]
  },
  {
   "cell_type": "markdown",
   "metadata": {},
   "source": [
    "#### Check the statistic of the target variable"
   ]
  },
  {
   "cell_type": "code",
   "execution_count": 91,
   "metadata": {},
   "outputs": [
    {
     "data": {
      "text/plain": [
       "0.38939670932358317"
      ]
     },
     "execution_count": 91,
     "metadata": {},
     "output_type": "execute_result"
    }
   ],
   "source": [
    "\n",
    "target_top_restaurant.mean()"
   ]
  },
  {
   "cell_type": "code",
   "execution_count": 92,
   "metadata": {},
   "outputs": [
    {
     "data": {
      "text/plain": [
       "((4923,), (4923,))"
      ]
     },
     "execution_count": 92,
     "metadata": {},
     "output_type": "execute_result"
    }
   ],
   "source": [
    "documents_top_restaurant.shape, target_top_restaurant.shape"
   ]
  },
  {
   "cell_type": "code",
   "execution_count": null,
   "metadata": {},
   "outputs": [],
   "source": []
  },
  {
   "cell_type": "markdown",
   "metadata": {},
   "source": [
    "### Create training dataset and test dataset"
   ]
  },
  {
   "cell_type": "code",
   "execution_count": 107,
   "metadata": {},
   "outputs": [],
   "source": [
    "from sklearn.cross_validation import train_test_split"
   ]
  },
  {
   "cell_type": "code",
   "execution_count": 109,
   "metadata": {},
   "outputs": [],
   "source": [
    "# documents_top_restaurant is X, target_top_restaurant is y\n",
    "# Now split the data to training set and test set\n",
    "# Now data is smaller, you can use a typical \"test_size\", e.g. 0.3-0.7\n",
    "X_train, X_test, y_train, y_test = \\\n",
    "train_test_split(documents_top_restaurant, target_top_restaurant, test_size = 0.95, random_state = 7)\n",
    "\n"
   ]
  },
  {
   "cell_type": "markdown",
   "metadata": {},
   "source": [
    "### Get NLP representation of the documents"
   ]
  },
  {
   "cell_type": "code",
   "execution_count": 110,
   "metadata": {},
   "outputs": [],
   "source": [
    "from sklearn.feature_extraction.text import TfidfVectorizer"
   ]
  },
  {
   "cell_type": "code",
   "execution_count": 111,
   "metadata": {},
   "outputs": [],
   "source": [
    "# Create TfidfVectorizer, and name it vectorizer\n",
    "vectorizer = TfidfVectorizer(stop_words = 'english', max_features = 1000)"
   ]
  },
  {
   "cell_type": "code",
   "execution_count": 112,
   "metadata": {},
   "outputs": [],
   "source": [
    "# Train the model with training data\n",
    "vectors_train = vectorizer.fit_transform(X_train).toarray()"
   ]
  },
  {
   "cell_type": "code",
   "execution_count": 113,
   "metadata": {},
   "outputs": [
    {
     "data": {
      "text/plain": [
       "(246, 1000)"
      ]
     },
     "execution_count": 113,
     "metadata": {},
     "output_type": "execute_result"
    }
   ],
   "source": [
    "vectors_train.shape"
   ]
  },
  {
   "cell_type": "code",
   "execution_count": 114,
   "metadata": {},
   "outputs": [],
   "source": [
    "# Get the vocab of tfidf\n",
    "wordsBag = vectorizer.get_feature_names()"
   ]
  },
  {
   "cell_type": "code",
   "execution_count": 116,
   "metadata": {},
   "outputs": [],
   "source": [
    "# Use the trained model to transform the test data\n",
    "vectors_test = vectorizer.transform(X_test).todense()"
   ]
  },
  {
   "cell_type": "code",
   "execution_count": 117,
   "metadata": {},
   "outputs": [],
   "source": [
    "# Use the trained model to transform all the data\n",
    "vectors_documents_top_restaurant = vectorizer.transform(documents_top_restaurant).todense()"
   ]
  },
  {
   "cell_type": "markdown",
   "metadata": {},
   "source": [
    "### Cluster reviews with KMeans"
   ]
  },
  {
   "cell_type": "markdown",
   "metadata": {},
   "source": [
    "#### Fit k-means clustering on the training vectors and make predictions on all data"
   ]
  },
  {
   "cell_type": "code",
   "execution_count": 118,
   "metadata": {},
   "outputs": [
    {
     "data": {
      "text/plain": [
       "KMeans(algorithm='auto', copy_x=True, init='k-means++', max_iter=300,\n",
       "    n_clusters=5, n_init=10, n_jobs=1, precompute_distances='auto',\n",
       "    random_state=None, tol=0.0001, verbose=0)"
      ]
     },
     "execution_count": 118,
     "metadata": {},
     "output_type": "execute_result"
    }
   ],
   "source": [
    "from sklearn.cluster import KMeans\n",
    "kmeans = KMeans(n_clusters = 5)\n",
    "kmeans.fit(vectors_train)"
   ]
  },
  {
   "cell_type": "code",
   "execution_count": null,
   "metadata": {},
   "outputs": [],
   "source": []
  },
  {
   "cell_type": "markdown",
   "metadata": {},
   "source": [
    "#### Make predictions on all  data"
   ]
  },
  {
   "cell_type": "code",
   "execution_count": 119,
   "metadata": {},
   "outputs": [],
   "source": [
    "assigned_cluster = kmeans.predict(vectors_documents_top_restaurant)"
   ]
  },
  {
   "cell_type": "markdown",
   "metadata": {},
   "source": [
    "#### Inspect the centroids"
   ]
  },
  {
   "cell_type": "code",
   "execution_count": 120,
   "metadata": {},
   "outputs": [
    {
     "name": "stdout",
     "output_type": "stream",
     "text": [
      "Cluster centers:\n",
      "(5, 1000)\n"
     ]
    }
   ],
   "source": [
    "# To be implemented\n",
    "print('Cluster centers:')\n",
    "print(kmeans.cluster_centers_.shape)"
   ]
  },
  {
   "cell_type": "markdown",
   "metadata": {},
   "source": [
    "#### Find the top 10 features for each cluster."
   ]
  },
  {
   "cell_type": "code",
   "execution_count": 121,
   "metadata": {},
   "outputs": [],
   "source": [
    "mostFreq = 10\n",
    "top_centroids = kmeans.cluster_centers_.argsort()[:, -1:-mostFreq : -1]"
   ]
  },
  {
   "cell_type": "code",
   "execution_count": 124,
   "metadata": {},
   "outputs": [
    {
     "name": "stdout",
     "output_type": "stream",
     "text": [
      "top words for each cluster:\n",
      "0: buffet, best, food, vegas, great, amazing, service, las, definitely\n",
      "1: buffet, eat, worth, price, dinner, salty, money, 10, seafood\n",
      "2: crab, place, good, legs, buffet, just, like, food, seafood\n",
      "3: buffet, food, fresh, section, definitely, station, vegas, little, favorite\n",
      "4: line, food, wait, just, long, buffet, pay, price, good\n"
     ]
    }
   ],
   "source": [
    "print(\"top words for each cluster:\")\n",
    "for num, centroid in enumerate(top_centroids):\n",
    "    print(\"%d: %s\" % (num, \", \".join(wordsBag[i] for i in centroid)))"
   ]
  },
  {
   "cell_type": "markdown",
   "metadata": {},
   "source": [
    "#### Print out the rating and review of a random sample of the reviews assigned to each cluster to get a sense of the cluster."
   ]
  },
  {
   "cell_type": "code",
   "execution_count": 125,
   "metadata": {},
   "outputs": [
    {
     "data": {
      "text/plain": [
       "array([0, 1, 2, 3, 4], dtype=int32)"
      ]
     },
     "execution_count": 125,
     "metadata": {},
     "output_type": "execute_result"
    }
   ],
   "source": [
    "np.unique(assigned_cluster)"
   ]
  },
  {
   "cell_type": "code",
   "execution_count": 132,
   "metadata": {},
   "outputs": [
    {
     "name": "stdout",
     "output_type": "stream",
     "text": [
      "cluster 0:\n",
      "    1\n",
      "    Yikes! The Orleans Casino and Boyd spent 4.5 million dollars completely renovating the buffet, changing the name, layout and everything. I was super excited when I got a coupon for 2 free buffets and couldn't wait to give their new buffet a try.\n",
      "\n",
      "Lets just say I'm glad I didn't pay for this. \n",
      "\n",
      "On my first plate I tried their cheese enchilada (because how in the heck can you mess that up), rice and a few pieces of sushi. The sushi was inedible, falling apart, dry and fishy. The enchilada was over-cooked, falling apart and to say it was salty would be understating the salinity of this abomination. The rice, surprisingly crunchy.\n",
      "\n",
      "I had literally one bite of everything and ditched the plate. I thought for sure our server was going to kick me out or something for throwing out an entire plate of food, but thankfully he didn't say anything.\n",
      "\n",
      "Round 2: I tried the steak, a salad, some chow mein, and cheese ravioli with marinara. \n",
      "\n",
      "So I ended up eating the salad for dinner (the rest was inedible). \n",
      "\n",
      "Dessert was bland. Also, like every other casino in Vegas, they have those cute little desserts in the clear cups, and small tarts.... unlike other casinos, they put these tarts behind glass and you have to ask for the ones you want. So weird... you just know they're going to shame you if you ask to try 3 or 4 different tarts.\n",
      "\n",
      "One guy reviewed the Aliante's buffet and said that if you wanted to know what the color beige tastes like you should eat there. EXACTLY! If you want to know what the color beige tastes like-- this is your jam. I would have been really upset had I actually paid the $43 for 2 buffets. \n",
      "\n",
      "Pros: The place is gorgeous, new, and modern.\n",
      "Cons: The food is terrible.\n",
      "    5\n",
      "    I don't come here for special occasions or to celebrate anything. Except my birthday. And it's my birthday!!! Actually everyday is my birthday. Guess that means I dine here everyday. Been dining here well over 15yrs so needless to say, I've seen it, I've ate it, and I've drank it all. And I still keep coming back for more. I invited my friend Anna to join me for this special occasion. So Anna hasn't been to Delmonico before and knew she was in for a treat. My motto is Great Wine, Great Food, Great Company. And I had all three tonight. \n",
      "\n",
      "I generally bring a couple of bottles of wine from my collection to share with Dillon, the sommelier. This time I brought a 2004 Rubicon 100% Cab Franc and a 1999 Grgich Hill Cabernet. Holy shit the Cabernet was AbFab!!! Perfect in every way. \n",
      "\n",
      "To start, we had something special from Chef. Then we moved on to the Foie Gras and Oysters. Both Anna and I were trying to play nice and say, \"Here, you take the last bite.\", but deep down we wanted it all to ourselves!!! Next we ordered the Chateaubriand. All the steaks are exceptional, but there's something about this. I think cause it's French. I love everything French. Perfect in every way. Grilled right in front of you to a Medium Rare perfection. This was also accompanied with asparagus and mashed potatoes (I had them add some truffles to the mashers. Well it is my birthday!!!). And for dessert, the birthday ice cream and two shots of Jäger. They actually don't have Jäger at the restaurant, so they had to go out and find some for me. That's why I love this place. And will continue to come here.\n",
      "cluster 1:\n",
      "    5\n",
      "    This place is great. I had the veggie ramen and it was incredible. I would definitely recommend this to my friends.\n",
      "    5\n",
      "    Renovation complete.  Brighter, less formal, and now, a seafood lovers paradise with food, far more identifiable and approachable.  There is only ONE non seafood dish (a NY strip) on the menu.\n",
      "\n",
      "The phenominal lobster pot pie and caviar parfait are still offered but add to them air flown shellfish on a raw bar, or simply grilled, seasonal crudos and whole in season fish prepared multiple ways.\n",
      "\n",
      "Two menus work side by side.  One, more \"refined\", the other seasonal and fish house worthy simply titled the \"Market List\".  \n",
      "\n",
      "Note:  Hawaii yeeps, the \"Market List\" menu is from Hawaii's own Mina's Fish House.\n",
      "\n",
      "Beginning with the shellfish, offered raw or charcoal grilled with a miso, garlic, yuzukosho (a type of spicy peppercorn) butter, as individual items or platters.  As good as the live Santa Barbara uni are, the grilled live diver scallops steal the show.   Perfectly grilled, a hint of smoke and that heavenly butter that boost the natural sweetness and complexity.\n",
      "\n",
      "Raw fish?  Do not pass up the signature tuna tartare.  Small chunks of sashimi grade tuna mixed with mint, pine nuts, chilies, and a bit of sesame oil and EVOO.  Like poke on steroids. The pine nuts and sesame add earthiness and a pleasing roundness while the mint, an mild herbal finish.  Crudos (red snapper and yellowfin tuna sampled) are also excellent and showcase the freshness of the fish.  \n",
      "\n",
      "For mains, it's all about the sharable whole fish.  Three preparations offered, two sampled.  Broiled with ginger and scallions atop baby bok choy, trumpet mushrooms and topped by fermented black beans adds a great salinity and sharp umame notes to the branzino.  The spice crusted then fried madai (snapper) with a coconut green curry and thai basil, bold and very flavorful.  Both examples were perfectly cooked with the flesh being moist throughout.  Despite the delicate nature of the fish, the flavor is enhanced by the seasonings, a mild sweetness and clean, subtle fish flavored goodness.\n",
      "\n",
      "The lobster pot pie (the dish that drew me from the Bellagio poker room many a time) is still excellent with beautiful root veg, mushrooms, a perfectly poached lobster all in a lobster cream sauce baked in pastry.  The caviar parfait, just think cold smoked salmon, and traditional caviar accompaniments in a tower topped by a your favorite caviar, heavenly.\n",
      "\n",
      "Very good wine list with an emphasis on seafood worthy old world wines.  Typical resort markup.\n",
      "\n",
      "Excellent, friendly, knowledgeable service.\n",
      "\n",
      "All told, an fantastic reboot of an already outstanding restaurant.\n",
      "cluster 2:\n",
      "    5\n",
      "    This place is Legit!\n",
      "Salmon was really fresh! Buddy of mine had Steak- to die!\n",
      "Brussels were the best I've ever had!\n",
      "The mashed potatoes are just like Grandmas!!! The BEST!!!\n",
      "    1\n",
      "    This is the absolute WORST buffet that I have ever been to in LIFE.\n",
      "\n",
      "Starting from the food all the way down to the service. The food was AWFUL. They cut the crab legs in half , the meat at the carving station was salty   and just about every other item I tried was either too bland or had a BAD taste. \n",
      "\n",
      "I wish I would have gotten the waiter's name because his service sucked. After being seated he neglected our table for about 15 minutes so we finally flagged someone down to help us then they pointed that the guy who was neglecting our table was our waiter. He came over to our table and acted as if he didn't want to even want to be bothered with us.  I seen other reviews and I ignored them because I tend to find the good in any situation but I'm serious when I say I would absolutely never eat here again.\n",
      "cluster 3:\n",
      "    1\n",
      "    Disgusting. I promise you that you need to run away from this place. Don't do it. The food is abysmal.\n",
      "    2\n",
      "    Not a fan but it's ok if your pressed for time and need to return to business/seminar. It will cost ya $19 without alcohol for lunch. The gelato and desserts were awesome. My colleagues enjoyed the carving station. Everything else was meh!\n",
      "\n",
      "I assume breakfast might be better as those lines to get in were longer long. The staff was awesome, friendly and extremely attentive. I wish I could review them separately def 4.5 stars worthy! \n",
      "\n",
      "I say give em try and see what your thoughts are. My taste buds might have not been ready for buffet lunch.\n",
      "cluster 4:\n",
      "    1\n",
      "    My brother ordered animal fries , and the cashier messed up , we didnt get the fries and she was completely rude to my mother when she told her we didnt get the animal fries like it was my mothers fault . never ever should an employee disrespect a customer . i honestly hate this location because of their poor customer service , this was my first worst experience at an in n out and i hope to not come across another .\n",
      "    5\n",
      "    If you are a bourbon fan, you will think you have hit the jackpot of all bourbon collections.  Even Rip Van Winkle bourbon is available for the drinking.  \n",
      "\n",
      "Top notch steak house with incredible care taken in the preparation and display of the dishes.  The chateaubriand is outstanding and the sides were all very amazing including the creamed corn and perfectly cooked asparagus.  Don't forget to try the banana cream pie (it's quite large so you may want to split it)!\n",
      "\n",
      "Service was also top notch.  A team of servers was always available to ensure you could ask questions and ensure you were satisfied with your meal.  \n",
      "\n",
      "This place is good for just about any occasion.  They also do tastings if arranged ahead of time of off-menu items such as stuffed quail or other dishes. Highly recommended....you won't be disappointed.\n"
     ]
    }
   ],
   "source": [
    "for i in range(kmeans.n_clusters):\n",
    "    cluster = np.arange(0, documents_top_restaurant.shape[0])[assigned_cluster==i]\n",
    "    sample_reviews = np.random.choice(cluster, 2, replace=False)\n",
    "    print(\"cluster %d:\" % i)\n",
    "    for review_index in sample_reviews:\n",
    "        print(\"    %s\" % df.ix[review_index]['stars'],)\n",
    "        print(\"    %s\" % df.ix[review_index]['text'])\n",
    "    print"
   ]
  },
  {
   "cell_type": "markdown",
   "metadata": {},
   "source": [
    "## 3. Use PCA to reduce dimensionality"
   ]
  },
  {
   "cell_type": "markdown",
   "metadata": {},
   "source": [
    "### Stardardize features\n",
    "Your X_train and X_test"
   ]
  },
  {
   "cell_type": "code",
   "execution_count": 134,
   "metadata": {},
   "outputs": [],
   "source": [
    "from sklearn.preprocessing import StandardScaler\n",
    "scaler = StandardScaler()\n",
    "X_train_scaled = scaler.fit_transform(vectors_train)\n",
    "X_test_scaled = scaler.fit_transform(vectors_test)\n"
   ]
  },
  {
   "cell_type": "markdown",
   "metadata": {},
   "source": [
    "### Use PCA to transform data (train and test) and get princial components"
   ]
  },
  {
   "cell_type": "code",
   "execution_count": null,
   "metadata": {},
   "outputs": [],
   "source": [
    "from sklearn.decomposition import PCA\n",
    "\n",
    "# Let's pick a n_components\n",
    "number_components = 50\n",
    "pca = PCA(n_components = number_components)\n",
    "X_train_pca = pca.fit_transform(X_train_scaled)\n",
    "X_test_pca = pca.transform(X_test_scaled)"
   ]
  },
  {
   "cell_type": "markdown",
   "metadata": {
    "collapsed": true
   },
   "source": [
    "##### Dimension reduction by PCA"
   ]
  },
  {
   "cell_type": "code",
   "execution_count": 139,
   "metadata": {},
   "outputs": [
    {
     "data": {
      "text/plain": [
       "((246, 50), (50, 1000))"
      ]
     },
     "execution_count": 139,
     "metadata": {},
     "output_type": "execute_result"
    }
   ],
   "source": [
    "X_train_pca.shape, pca.components_.shape"
   ]
  },
  {
   "cell_type": "markdown",
   "metadata": {},
   "source": [
    "### See how much (and how much percentage of) variance the principal components explain"
   ]
  },
  {
   "cell_type": "code",
   "execution_count": 136,
   "metadata": {},
   "outputs": [
    {
     "name": "stdout",
     "output_type": "stream",
     "text": [
      "[15.46433742 13.76232478 11.40137861 10.7633782  10.15840543  9.48891441\n",
      "  9.44560769  9.23750405  9.02863531  8.78504816]\n"
     ]
    }
   ],
   "source": [
    "print(pca.explained_variance_[:10])"
   ]
  },
  {
   "cell_type": "code",
   "execution_count": 141,
   "metadata": {},
   "outputs": [
    {
     "name": "stdout",
     "output_type": "stream",
     "text": [
      "[0.01370638 0.01135503 0.01071962 0.01011711 0.00945034 0.00940721\n",
      " 0.00919995 0.00899193 0.00874934]\n"
     ]
    }
   ],
   "source": [
    "print(pca.explained_variance_ratio_[1:10])"
   ]
  },
  {
   "cell_type": "markdown",
   "metadata": {},
   "source": [
    "### Visualization: plot proportion of variance explained with top principal components\n"
   ]
  },
  {
   "cell_type": "code",
   "execution_count": null,
   "metadata": {},
   "outputs": [],
   "source": [
    "n_col_to_display = 20\n",
    "\n",
    "pca_range = np.arange(n_col_to_display) + 1\n",
    "pca_names = ['PCA_%s' % i for i in pca_range]"
   ]
  },
  {
   "cell_type": "code",
   "execution_count": 148,
   "metadata": {},
   "outputs": [
    {
     "data": {
      "text/plain": [
       "Text(0,0.5,'Variance Explained')"
      ]
     },
     "execution_count": 148,
     "metadata": {},
     "output_type": "execute_result"
    },
    {
     "data": {
      "image/png": "[encoded data removed]",
      "text/plain": [
       "<matplotlib.figure.Figure at 0x1a15f80e80>"
      ]
     },
     "metadata": {},
     "output_type": "display_data"
    }
   ],
   "source": [
    "plt.figure(figsize = (10,10))\n",
    "plt.bar(pca_range, pca.explained_variance_[:n_col_to_display], align = 'center')\n",
    "xticks = plt.xticks(pca_range,pca_names, rotation = 90)\n",
    "plt.ylabel('Variance Explained')"
   ]
  },
  {
   "cell_type": "code",
   "execution_count": 166,
   "metadata": {},
   "outputs": [
    {
     "data": {
      "text/plain": [
       "Text(0.5,0,'Proportion of Variance Explained')"
      ]
     },
     "execution_count": 166,
     "metadata": {},
     "output_type": "execute_result"
    },
    {
     "data": {
      "image/png": "[encoded data removed]",
      "text/plain": [
       "<matplotlib.figure.Figure at 0x1a1568c7b8>"
      ]
     },
     "metadata": {},
     "output_type": "display_data"
    }
   ],
   "source": [
    "# bar plot\n",
    "\n",
    "n_col_to_display = 20\n",
    "\n",
    "pca_range = np.arange(n_col_to_display) + 1\n",
    "pca_names = ['PCA_%s' % i for i in pca_range]\n",
    "\n",
    "plt.figure(figsize = (10,10))\n",
    "plt.barh(pca_range, pca.explained_variance_ratio_[:n_col_to_display], align = 'center')\n",
    "xticks = plt.yticks(pca_range, pca_names)\n",
    "plt.xlabel('Proportion of Variance Explained')\n"
   ]
  },
  {
   "cell_type": "markdown",
   "metadata": {},
   "source": [
    "## Classifying positive/negative review with PCA preprocessing"
   ]
  },
  {
   "cell_type": "markdown",
   "metadata": {},
   "source": [
    "### Logistic Regression Classifier\n",
    "#### Use standardized tf-idf vectors as features"
   ]
  },
  {
   "cell_type": "code",
   "execution_count": null,
   "metadata": {},
   "outputs": [],
   "source": [
    "# Build a Logistic Regression Classifier, train with standardized tf-idf vectors\n",
    "\n",
    "from sklearn.linear_model import LogisticRegression"
   ]
  },
  {
   "cell_type": "code",
   "execution_count": 157,
   "metadata": {},
   "outputs": [
    {
     "data": {
      "text/plain": [
       "LogisticRegression(C=1.0, class_weight=None, dual=False, fit_intercept=True,\n",
       "          intercept_scaling=1, max_iter=100, multi_class='ovr', n_jobs=1,\n",
       "          penalty='l2', random_state=None, solver='liblinear', tol=0.0001,\n",
       "          verbose=0, warm_start=False)"
      ]
     },
     "execution_count": 157,
     "metadata": {},
     "output_type": "execute_result"
    }
   ],
   "source": [
    "model_logit = LogisticRegression()\n",
    "model_logit.fit(X_train_scaled, y_train)"
   ]
  },
  {
   "cell_type": "code",
   "execution_count": 158,
   "metadata": {},
   "outputs": [
    {
     "data": {
      "text/plain": [
       "1.0"
      ]
     },
     "execution_count": 158,
     "metadata": {},
     "output_type": "execute_result"
    }
   ],
   "source": [
    "# Get score for training set\n",
    "model_logit.score(X_train_scaled, y_train)\n"
   ]
  },
  {
   "cell_type": "code",
   "execution_count": 159,
   "metadata": {
    "scrolled": true
   },
   "outputs": [
    {
     "data": {
      "text/plain": [
       "0.7079324353217875"
      ]
     },
     "execution_count": 159,
     "metadata": {},
     "output_type": "execute_result"
    }
   ],
   "source": [
    "# Get score for test set\n",
    "model_logit.score(X_test_scaled,y_test)"
   ]
  },
  {
   "cell_type": "markdown",
   "metadata": {},
   "source": [
    "- Overfitted\n",
    "- we have to use more data to train the model"
   ]
  },
  {
   "cell_type": "markdown",
   "metadata": {},
   "source": [
    "#### Use (Stardardized + PCA) tf-idf vectors as features"
   ]
  },
  {
   "cell_type": "code",
   "execution_count": 161,
   "metadata": {},
   "outputs": [
    {
     "data": {
      "text/plain": [
       "LogisticRegression(C=1.0, class_weight=None, dual=False, fit_intercept=True,\n",
       "          intercept_scaling=1, max_iter=100, multi_class='ovr', n_jobs=1,\n",
       "          penalty='l2', random_state=None, solver='liblinear', tol=0.0001,\n",
       "          verbose=0, warm_start=False)"
      ]
     },
     "execution_count": 161,
     "metadata": {},
     "output_type": "execute_result"
    }
   ],
   "source": [
    "# Build a Logistic Regression Classifier, train with PCA tranformed X\n",
    "model_logit = LogisticRegression()\n",
    "model_logit.fit(X_train_pca, y_train)\n"
   ]
  },
  {
   "cell_type": "code",
   "execution_count": 162,
   "metadata": {},
   "outputs": [
    {
     "data": {
      "text/plain": [
       "0.8008130081300813"
      ]
     },
     "execution_count": 162,
     "metadata": {},
     "output_type": "execute_result"
    }
   ],
   "source": [
    "# Get score for training set\n",
    "model_logit.score(X_train_pca, y_train)\n"
   ]
  },
  {
   "cell_type": "code",
   "execution_count": 163,
   "metadata": {},
   "outputs": [
    {
     "data": {
      "text/plain": [
       "0.6974556339533889"
      ]
     },
     "execution_count": 163,
     "metadata": {},
     "output_type": "execute_result"
    }
   ],
   "source": [
    "# Get score for test set, REMEMBER to use PCA-transformed X!\n",
    "model_logit.score(X_test_pca,y_test)"
   ]
  },
  {
   "cell_type": "markdown",
   "metadata": {},
   "source": [
    "#### Some findings:"
   ]
  },
  {
   "cell_type": "markdown",
   "metadata": {},
   "source": [
    "- Using pca as new features, the difference between training error and testing error reduced.\n",
    "- Better than using original features"
   ]
  },
  {
   "cell_type": "markdown",
   "metadata": {},
   "source": [
    "#### Plot the coefficients against principal components\n"
   ]
  },
  {
   "cell_type": "code",
   "execution_count": null,
   "metadata": {},
   "outputs": [],
   "source": [
    "pca_range = np.arange(pca.n_components_) + 1\n",
    "\n",
    "pca_names = ['PCA_%s' % i for i in pca_range]\n",
    "\n",
    "df_coef = pd.DataFrame(list(zip(pca_names, model_logit.coef_.flatten()))).sort_values(by = [1], ascending = False)\n",
    "df_coef.columns = ['PCs', 'coefficients']\n",
    "df_coef"
   ]
  },
  {
   "cell_type": "markdown",
   "metadata": {
    "collapsed": true
   },
   "source": [
    "#### Plot the coefficients"
   ]
  },
  {
   "cell_type": "code",
   "execution_count": 176,
   "metadata": {},
   "outputs": [
    {
     "data": {
      "image/png": "[encoded data removed]",
      "text/plain": [
       "<matplotlib.figure.Figure at 0x1a15f1c898>"
      ]
     },
     "metadata": {},
     "output_type": "display_data"
    }
   ],
   "source": [
    "axis = df_coef.plot.bar(figsize = (10,10))\n",
    "t = np.arange(pca.n_components_)\n",
    "axis.set_xticks(t)\n",
    "axis.set_xticklabels(df_coef['PCs'])\n",
    "plt.show()"
   ]
  },
  {
   "cell_type": "code",
   "execution_count": null,
   "metadata": {},
   "outputs": [],
   "source": []
  },
  {
   "cell_type": "markdown",
   "metadata": {},
   "source": [
    "### Random Forest Classifier\n",
    "#### Use standardized tf-idf vectors as features"
   ]
  },
  {
   "cell_type": "code",
   "execution_count": 180,
   "metadata": {},
   "outputs": [
    {
     "data": {
      "text/plain": [
       "RandomForestClassifier(bootstrap=True, class_weight=None, criterion='gini',\n",
       "            max_depth=None, max_features='auto', max_leaf_nodes=None,\n",
       "            min_impurity_decrease=0.0, min_impurity_split=None,\n",
       "            min_samples_leaf=3, min_samples_split=2,\n",
       "            min_weight_fraction_leaf=0.0, n_estimators=20, n_jobs=1,\n",
       "            oob_score=False, random_state=7, verbose=0, warm_start=False)"
      ]
     },
     "execution_count": 180,
     "metadata": {},
     "output_type": "execute_result"
    }
   ],
   "source": [
    "# Build a Random Forest Classifier\n",
    "\n",
    "from sklearn.ensemble import RandomForestClassifier\n",
    "rf_clf = RandomForestClassifier(max_depth = None, n_estimators = 20, min_samples_leaf = 3, random_state = 7)\n",
    "rf_clf.fit(X_train_scaled, y_train)\n"
   ]
  },
  {
   "cell_type": "code",
   "execution_count": 181,
   "metadata": {},
   "outputs": [
    {
     "data": {
      "text/plain": [
       "0.9105691056910569"
      ]
     },
     "execution_count": 181,
     "metadata": {},
     "output_type": "execute_result"
    }
   ],
   "source": [
    "# Get score for training set\n",
    "rf_clf.score(X_train_scaled, y_train)"
   ]
  },
  {
   "cell_type": "code",
   "execution_count": 182,
   "metadata": {
    "scrolled": true
   },
   "outputs": [
    {
     "data": {
      "text/plain": [
       "0.6809920889459055"
      ]
     },
     "execution_count": 182,
     "metadata": {},
     "output_type": "execute_result"
    }
   ],
   "source": [
    "# Get score for test set\n",
    "rf_clf.score(X_test_scaled, y_test)"
   ]
  },
  {
   "cell_type": "markdown",
   "metadata": {},
   "source": [
    "#### Use (Stardardized + PCA) tf-idf vectors as features"
   ]
  },
  {
   "cell_type": "code",
   "execution_count": 183,
   "metadata": {},
   "outputs": [
    {
     "data": {
      "text/plain": [
       "RandomForestClassifier(bootstrap=True, class_weight=None, criterion='gini',\n",
       "            max_depth=None, max_features='auto', max_leaf_nodes=None,\n",
       "            min_impurity_decrease=0.0, min_impurity_split=None,\n",
       "            min_samples_leaf=3, min_samples_split=2,\n",
       "            min_weight_fraction_leaf=0.0, n_estimators=20, n_jobs=1,\n",
       "            oob_score=False, random_state=7, verbose=0, warm_start=False)"
      ]
     },
     "execution_count": 183,
     "metadata": {},
     "output_type": "execute_result"
    }
   ],
   "source": [
    "# Build a Random Forest Classifier\n",
    "rf_clf = RandomForestClassifier(max_depth = None, n_estimators = 20, min_samples_leaf = 3, random_state = 7)\n",
    "rf_clf.fit(X_train_pca, y_train)"
   ]
  },
  {
   "cell_type": "code",
   "execution_count": 185,
   "metadata": {},
   "outputs": [
    {
     "data": {
      "text/plain": [
       "0.9878048780487805"
      ]
     },
     "execution_count": 185,
     "metadata": {},
     "output_type": "execute_result"
    }
   ],
   "source": [
    "# Get score for training set\n",
    "rf_clf.score(X_train_pca, y_train)"
   ]
  },
  {
   "cell_type": "code",
   "execution_count": 186,
   "metadata": {},
   "outputs": [
    {
     "data": {
      "text/plain": [
       "0.6709429121231558"
      ]
     },
     "execution_count": 186,
     "metadata": {},
     "output_type": "execute_result"
    }
   ],
   "source": [
    "# Get score for test set, REMEMBER to use PCA-transformed X!\n",
    "rf_clf.score(X_test_pca, y_test)"
   ]
  },
  {
   "cell_type": "markdown",
   "metadata": {},
   "source": [
    "#### Q: What do you see from the training result and the test result?"
   ]
  },
  {
   "cell_type": "markdown",
   "metadata": {},
   "source": [
    "A: Overfitting issues. As the test error is larger than training error."
   ]
  },
  {
   "cell_type": "markdown",
   "metadata": {},
   "source": [
    "#### You can plot the feature importances against principal components\n"
   ]
  },
  {
   "cell_type": "code",
   "execution_count": 187,
   "metadata": {},
   "outputs": [],
   "source": [
    "pca_range = np.arange(pca.n_components_) + 1\n",
    "pca_names = ['PCA_%s' % i for i in pca_range]"
   ]
  },
  {
   "cell_type": "code",
   "execution_count": 190,
   "metadata": {},
   "outputs": [
    {
     "data": {
      "text/html": [
       "<div>\n",
       "<style scoped>\n",
       "    .dataframe tbody tr th:only-of-type {\n",
       "        vertical-align: middle;\n",
       "    }\n",
       "\n",
       "    .dataframe tbody tr th {\n",
       "        vertical-align: top;\n",
       "    }\n",
       "\n",
       "    .dataframe thead th {\n",
       "        text-align: right;\n",
       "    }\n",
       "</style>\n",
       "<table border=\"1\" class=\"dataframe\">\n",
       "  <thead>\n",
       "    <tr style=\"text-align: right;\">\n",
       "      <th></th>\n",
       "      <th>PCs</th>\n",
       "      <th>Feature Importance</th>\n",
       "    </tr>\n",
       "  </thead>\n",
       "  <tbody>\n",
       "    <tr>\n",
       "      <th>2</th>\n",
       "      <td>PCA_3</td>\n",
       "      <td>0.058189</td>\n",
       "    </tr>\n",
       "    <tr>\n",
       "      <th>17</th>\n",
       "      <td>PCA_18</td>\n",
       "      <td>0.050795</td>\n",
       "    </tr>\n",
       "    <tr>\n",
       "      <th>5</th>\n",
       "      <td>PCA_6</td>\n",
       "      <td>0.049468</td>\n",
       "    </tr>\n",
       "    <tr>\n",
       "      <th>29</th>\n",
       "      <td>PCA_30</td>\n",
       "      <td>0.035501</td>\n",
       "    </tr>\n",
       "    <tr>\n",
       "      <th>32</th>\n",
       "      <td>PCA_33</td>\n",
       "      <td>0.034892</td>\n",
       "    </tr>\n",
       "    <tr>\n",
       "      <th>1</th>\n",
       "      <td>PCA_2</td>\n",
       "      <td>0.034139</td>\n",
       "    </tr>\n",
       "    <tr>\n",
       "      <th>4</th>\n",
       "      <td>PCA_5</td>\n",
       "      <td>0.032420</td>\n",
       "    </tr>\n",
       "    <tr>\n",
       "      <th>49</th>\n",
       "      <td>PCA_50</td>\n",
       "      <td>0.030998</td>\n",
       "    </tr>\n",
       "    <tr>\n",
       "      <th>26</th>\n",
       "      <td>PCA_27</td>\n",
       "      <td>0.026353</td>\n",
       "    </tr>\n",
       "    <tr>\n",
       "      <th>15</th>\n",
       "      <td>PCA_16</td>\n",
       "      <td>0.025847</td>\n",
       "    </tr>\n",
       "    <tr>\n",
       "      <th>7</th>\n",
       "      <td>PCA_8</td>\n",
       "      <td>0.025611</td>\n",
       "    </tr>\n",
       "    <tr>\n",
       "      <th>14</th>\n",
       "      <td>PCA_15</td>\n",
       "      <td>0.025417</td>\n",
       "    </tr>\n",
       "    <tr>\n",
       "      <th>45</th>\n",
       "      <td>PCA_46</td>\n",
       "      <td>0.024711</td>\n",
       "    </tr>\n",
       "    <tr>\n",
       "      <th>46</th>\n",
       "      <td>PCA_47</td>\n",
       "      <td>0.023984</td>\n",
       "    </tr>\n",
       "    <tr>\n",
       "      <th>30</th>\n",
       "      <td>PCA_31</td>\n",
       "      <td>0.022691</td>\n",
       "    </tr>\n",
       "    <tr>\n",
       "      <th>13</th>\n",
       "      <td>PCA_14</td>\n",
       "      <td>0.022542</td>\n",
       "    </tr>\n",
       "    <tr>\n",
       "      <th>31</th>\n",
       "      <td>PCA_32</td>\n",
       "      <td>0.020221</td>\n",
       "    </tr>\n",
       "    <tr>\n",
       "      <th>41</th>\n",
       "      <td>PCA_42</td>\n",
       "      <td>0.020077</td>\n",
       "    </tr>\n",
       "    <tr>\n",
       "      <th>38</th>\n",
       "      <td>PCA_39</td>\n",
       "      <td>0.019790</td>\n",
       "    </tr>\n",
       "    <tr>\n",
       "      <th>3</th>\n",
       "      <td>PCA_4</td>\n",
       "      <td>0.019671</td>\n",
       "    </tr>\n",
       "    <tr>\n",
       "      <th>9</th>\n",
       "      <td>PCA_10</td>\n",
       "      <td>0.019373</td>\n",
       "    </tr>\n",
       "    <tr>\n",
       "      <th>27</th>\n",
       "      <td>PCA_28</td>\n",
       "      <td>0.019221</td>\n",
       "    </tr>\n",
       "    <tr>\n",
       "      <th>19</th>\n",
       "      <td>PCA_20</td>\n",
       "      <td>0.018977</td>\n",
       "    </tr>\n",
       "    <tr>\n",
       "      <th>42</th>\n",
       "      <td>PCA_43</td>\n",
       "      <td>0.018537</td>\n",
       "    </tr>\n",
       "    <tr>\n",
       "      <th>0</th>\n",
       "      <td>PCA_1</td>\n",
       "      <td>0.018461</td>\n",
       "    </tr>\n",
       "    <tr>\n",
       "      <th>37</th>\n",
       "      <td>PCA_38</td>\n",
       "      <td>0.018396</td>\n",
       "    </tr>\n",
       "    <tr>\n",
       "      <th>18</th>\n",
       "      <td>PCA_19</td>\n",
       "      <td>0.018250</td>\n",
       "    </tr>\n",
       "    <tr>\n",
       "      <th>39</th>\n",
       "      <td>PCA_40</td>\n",
       "      <td>0.017715</td>\n",
       "    </tr>\n",
       "    <tr>\n",
       "      <th>16</th>\n",
       "      <td>PCA_17</td>\n",
       "      <td>0.017488</td>\n",
       "    </tr>\n",
       "    <tr>\n",
       "      <th>47</th>\n",
       "      <td>PCA_48</td>\n",
       "      <td>0.016749</td>\n",
       "    </tr>\n",
       "    <tr>\n",
       "      <th>28</th>\n",
       "      <td>PCA_29</td>\n",
       "      <td>0.016596</td>\n",
       "    </tr>\n",
       "    <tr>\n",
       "      <th>34</th>\n",
       "      <td>PCA_35</td>\n",
       "      <td>0.016544</td>\n",
       "    </tr>\n",
       "    <tr>\n",
       "      <th>48</th>\n",
       "      <td>PCA_49</td>\n",
       "      <td>0.014088</td>\n",
       "    </tr>\n",
       "    <tr>\n",
       "      <th>12</th>\n",
       "      <td>PCA_13</td>\n",
       "      <td>0.013829</td>\n",
       "    </tr>\n",
       "    <tr>\n",
       "      <th>10</th>\n",
       "      <td>PCA_11</td>\n",
       "      <td>0.013429</td>\n",
       "    </tr>\n",
       "    <tr>\n",
       "      <th>21</th>\n",
       "      <td>PCA_22</td>\n",
       "      <td>0.013178</td>\n",
       "    </tr>\n",
       "    <tr>\n",
       "      <th>25</th>\n",
       "      <td>PCA_26</td>\n",
       "      <td>0.013035</td>\n",
       "    </tr>\n",
       "    <tr>\n",
       "      <th>33</th>\n",
       "      <td>PCA_34</td>\n",
       "      <td>0.012027</td>\n",
       "    </tr>\n",
       "    <tr>\n",
       "      <th>40</th>\n",
       "      <td>PCA_41</td>\n",
       "      <td>0.011942</td>\n",
       "    </tr>\n",
       "    <tr>\n",
       "      <th>43</th>\n",
       "      <td>PCA_44</td>\n",
       "      <td>0.011844</td>\n",
       "    </tr>\n",
       "    <tr>\n",
       "      <th>35</th>\n",
       "      <td>PCA_36</td>\n",
       "      <td>0.011798</td>\n",
       "    </tr>\n",
       "    <tr>\n",
       "      <th>8</th>\n",
       "      <td>PCA_9</td>\n",
       "      <td>0.010240</td>\n",
       "    </tr>\n",
       "    <tr>\n",
       "      <th>22</th>\n",
       "      <td>PCA_23</td>\n",
       "      <td>0.008864</td>\n",
       "    </tr>\n",
       "    <tr>\n",
       "      <th>24</th>\n",
       "      <td>PCA_25</td>\n",
       "      <td>0.008168</td>\n",
       "    </tr>\n",
       "    <tr>\n",
       "      <th>36</th>\n",
       "      <td>PCA_37</td>\n",
       "      <td>0.007485</td>\n",
       "    </tr>\n",
       "    <tr>\n",
       "      <th>23</th>\n",
       "      <td>PCA_24</td>\n",
       "      <td>0.006718</td>\n",
       "    </tr>\n",
       "    <tr>\n",
       "      <th>11</th>\n",
       "      <td>PCA_12</td>\n",
       "      <td>0.006256</td>\n",
       "    </tr>\n",
       "    <tr>\n",
       "      <th>44</th>\n",
       "      <td>PCA_45</td>\n",
       "      <td>0.006140</td>\n",
       "    </tr>\n",
       "    <tr>\n",
       "      <th>6</th>\n",
       "      <td>PCA_7</td>\n",
       "      <td>0.006084</td>\n",
       "    </tr>\n",
       "    <tr>\n",
       "      <th>20</th>\n",
       "      <td>PCA_21</td>\n",
       "      <td>0.005249</td>\n",
       "    </tr>\n",
       "  </tbody>\n",
       "</table>\n",
       "</div>"
      ],
      "text/plain": [
       "       PCs  Feature Importance\n",
       "2    PCA_3            0.058189\n",
       "17  PCA_18            0.050795\n",
       "5    PCA_6            0.049468\n",
       "29  PCA_30            0.035501\n",
       "32  PCA_33            0.034892\n",
       "1    PCA_2            0.034139\n",
       "4    PCA_5            0.032420\n",
       "49  PCA_50            0.030998\n",
       "26  PCA_27            0.026353\n",
       "15  PCA_16            0.025847\n",
       "7    PCA_8            0.025611\n",
       "14  PCA_15            0.025417\n",
       "45  PCA_46            0.024711\n",
       "46  PCA_47            0.023984\n",
       "30  PCA_31            0.022691\n",
       "13  PCA_14            0.022542\n",
       "31  PCA_32            0.020221\n",
       "41  PCA_42            0.020077\n",
       "38  PCA_39            0.019790\n",
       "3    PCA_4            0.019671\n",
       "9   PCA_10            0.019373\n",
       "27  PCA_28            0.019221\n",
       "19  PCA_20            0.018977\n",
       "42  PCA_43            0.018537\n",
       "0    PCA_1            0.018461\n",
       "37  PCA_38            0.018396\n",
       "18  PCA_19            0.018250\n",
       "39  PCA_40            0.017715\n",
       "16  PCA_17            0.017488\n",
       "47  PCA_48            0.016749\n",
       "28  PCA_29            0.016596\n",
       "34  PCA_35            0.016544\n",
       "48  PCA_49            0.014088\n",
       "12  PCA_13            0.013829\n",
       "10  PCA_11            0.013429\n",
       "21  PCA_22            0.013178\n",
       "25  PCA_26            0.013035\n",
       "33  PCA_34            0.012027\n",
       "40  PCA_41            0.011942\n",
       "43  PCA_44            0.011844\n",
       "35  PCA_36            0.011798\n",
       "8    PCA_9            0.010240\n",
       "22  PCA_23            0.008864\n",
       "24  PCA_25            0.008168\n",
       "36  PCA_37            0.007485\n",
       "23  PCA_24            0.006718\n",
       "11  PCA_12            0.006256\n",
       "44  PCA_45            0.006140\n",
       "6    PCA_7            0.006084\n",
       "20  PCA_21            0.005249"
      ]
     },
     "execution_count": 190,
     "metadata": {},
     "output_type": "execute_result"
    }
   ],
   "source": [
    "df_coef = pd.DataFrame(list(zip(pca_names, rf_clf.feature_importances_))).sort_values(by = [1], ascending = False)\n",
    "df_coef .columns = ['PCs', 'Feature Importance']\n",
    "df_coef"
   ]
  },
  {
   "cell_type": "code",
   "execution_count": null,
   "metadata": {
    "collapsed": true
   },
   "outputs": [],
   "source": []
  },
  {
   "cell_type": "code",
   "execution_count": null,
   "metadata": {
    "collapsed": true
   },
   "outputs": [],
   "source": []
  },
  {
   "cell_type": "code",
   "execution_count": null,
   "metadata": {
    "collapsed": true
   },
   "outputs": [],
   "source": []
  }
 ],
 "metadata": {
  "anaconda-cloud": {},
  "kernelspec": {
   "display_name": "Python 3",
   "language": "python",
   "name": "python3"
  },
  "language_info": {
   "codemirror_mode": {
    "name": "ipython",
    "version": 3
   },
   "file_extension": ".py",
   "mimetype": "text/x-python",
   "name": "python",
   "nbconvert_exporter": "python",
   "pygments_lexer": "ipython3",
   "version": "3.6.4"
  }
 },
 "nbformat": 4,
 "nbformat_minor": 1
}
